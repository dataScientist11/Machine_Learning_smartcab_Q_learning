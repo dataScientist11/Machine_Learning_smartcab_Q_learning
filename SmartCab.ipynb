{
 "cells": [
  {
   "cell_type": "markdown",
   "metadata": {},
   "source": [
    "# q(s,a) = q(s,a) + alpha (r_t+1 + d * maxa(q(s_t+1,a)) - q(s,a) )"
   ]
  },
  {
   "cell_type": "markdown",
   "metadata": {},
   "source": [
    "# Explanation\n",
    "\n",
    "#### Discuss how the updated agent has improved, compared to the random agent.\n",
    "\n",
    "> Answer: \n",
    "\n",
    "# Todo\n",
    "\n",
    "* set alpha \n",
    "* set d\n",
    "---\n",
    "\n",
    "* if self.q(self.oldState, self.oldAction): \n",
    "    * pass\n",
    "* else \n",
    "    * self.q(self.oldState, self.oldAction) = 0\n",
    "\n",
    "* self.q(self.oldState, self.oldAction) = self.q(self.oldState, self.oldAction) + alpha(rt+1+d*maxa(q(self.state,self.action))- self.q(self.oldState, self.oldAction))\n",
    "* self.oldState = self.state\n",
    "* self.oldAction = self.action"
   ]
  },
  {
   "cell_type": "code",
   "execution_count": 47,
   "metadata": {
    "collapsed": false
   },
   "outputs": [],
   "source": [
    "from collections import defaultdict\n",
    "import random\n",
    "\n",
    "table = defaultdict(list)\n",
    "\n",
    "for i in range(10):\n",
    "    table[i,i,i]= i\n",
    "\n",
    "for k,v in table.items(): \n",
    "    pass\n",
    "    #print k,k[0] , k[0:3], type(k[2])\n",
    "\n",
    "if k[0] in table:\n",
    "    print 'it is there'\n",
    "    \n"
   ]
  }
 ],
 "metadata": {
  "kernelspec": {
   "display_name": "Python 2",
   "language": "python",
   "name": "python2"
  },
  "language_info": {
   "codemirror_mode": {
    "name": "ipython",
    "version": 2
   },
   "file_extension": ".py",
   "mimetype": "text/x-python",
   "name": "python",
   "nbconvert_exporter": "python",
   "pygments_lexer": "ipython2",
   "version": "2.7.6"
  }
 },
 "nbformat": 4,
 "nbformat_minor": 0
}
